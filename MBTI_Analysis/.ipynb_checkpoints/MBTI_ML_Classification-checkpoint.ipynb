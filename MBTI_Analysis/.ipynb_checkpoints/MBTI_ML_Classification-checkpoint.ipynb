{
 "cells": [
  {
   "cell_type": "code",
   "execution_count": 1,
   "metadata": {},
   "outputs": [],
   "source": [
    "import pandas as pd\n",
    "import numpy as np\n",
    "import tensorflow as tf\n",
    "from tensorflow import keras\n",
    "from collections import Counter\n",
    "import re\n",
    "import gensim\n",
    "from gensim.utils import simple_preprocess \n",
    "from nltk import word_tokenize\n",
    "from nltk.corpus import stopwords\n",
    "from sklearn.feature_extraction.text import CountVectorizer,TfidfVectorizer\n",
    "from textblob import TextBlob\n",
    "from tqdm import tqdm\n",
    "from os import path\n",
    "from PIL import Image\n",
    "from wordcloud import WordCloud, STOPWORDS, ImageColorGenerator\n",
    "from tensorflow.keras.preprocessing.text import Tokenizer\n",
    "from tensorflow.keras.preprocessing.sequence import pad_sequences\n",
    "from tensorflow.keras.models import Sequential\n",
    "from tensorflow.keras.layers import Dense, Embedding, LSTM, SpatialDropout1D, Bidirectional\n",
    "from tensorflow.keras.layers import Dropout\n",
    "from sklearn.model_selection import train_test_split\n",
    "from tensorflow.keras.utils import to_categorical\n",
    "from tensorflow.keras.callbacks import EarlyStopping\n",
    "from sklearn.metrics import confusion_matrix, classification_report\n",
    "import matplotlib.pyplot as plt\n",
    "import seaborn as sns"
   ]
  },
  {
   "cell_type": "markdown",
   "metadata": {},
   "source": [
    "# 1. Data Acquisition"
   ]
  },
  {
   "cell_type": "code",
   "execution_count": 7,
   "metadata": {},
   "outputs": [],
   "source": [
    "#Read Cleaned MBTI Dataset\n",
    "data = pd.read_csv('../MBTI_Data/cleaned_raw.csv')\n",
    "data = data.drop(data.columns[0], axis=1)\n",
    "#print(data.shape)\n",
    "#data.head()\n",
    "#Get a count per type\n",
    "count = Counter(data['type'])\n",
    "#print(count)\n",
    "sorted_type = sorted(count, key=count.get, reverse=True)"
   ]
  },
  {
   "cell_type": "markdown",
   "metadata": {},
   "source": [
    "# 2. Classification"
   ]
  },
  {
   "cell_type": "markdown",
   "metadata": {},
   "source": [
    "## 2.1 Datasets Selection."
   ]
  },
  {
   "cell_type": "code",
   "execution_count": 9,
   "metadata": {},
   "outputs": [],
   "source": [
    "target_names_0 = [\"ENFJ\",\"ENFP\",\"ENTJ\",\"ENTP\",\"ESFJ\",\"ESFP\",\"ESTJ\",\"ESTP\",\"INFJ\",\"INFP\",\"INTJ\",\"INTP\",\"ISFJ\",\"ISFP\",\"ISTJ\",\"ISTP\"]"
   ]
  },
  {
   "cell_type": "code",
   "execution_count": 6,
   "metadata": {},
   "outputs": [],
   "source": [
    "#Dataset for 7 Classes\n",
    "data_7c = data.copy()\n",
    "data_7c.type.replace(\"ISTP\",\"Other\", inplace=True)\n",
    "data_7c.type.replace(\"ISFP\",\"Other\", inplace=True)\n",
    "data_7c.type.replace(\"ISTJ\",\"Other\", inplace=True)\n",
    "data_7c.type.replace(\"ISFJ\",\"Other\", inplace=True)\n",
    "data_7c.type.replace(\"ENTJ\",\"Other\", inplace=True)\n",
    "data_7c.type.replace(\"ENFJ\",\"Other\", inplace=True)\n",
    "data_7c.type.replace(\"ESTP\",\"Other\", inplace=True)\n",
    "data_7c.type.replace(\"ESFP\",\"Other\", inplace=True)\n",
    "data_7c.type.replace(\"ESFJ\",\"Other\", inplace=True)\n",
    "data_7c.type.replace(\"ESTJ\",\"Other\", inplace=True)\n",
    "target_names_1 = ['ENFP','ENTP','INFJ','INFP','INTJ','INTP','Other']"
   ]
  },
  {
   "cell_type": "code",
   "execution_count": 7,
   "metadata": {},
   "outputs": [],
   "source": [
    "#Dataset for Extraversion vs Introversion\n",
    "data_EI = data.copy()\n",
    "data_EI.type.replace(\"INFP\",\"Introversion\", inplace=True)\n",
    "data_EI.type.replace(\"INFJ\",\"Introversion\", inplace=True)\n",
    "data_EI.type.replace(\"INTP\",\"Introversion\", inplace=True)\n",
    "data_EI.type.replace(\"INTJ\",\"Introversion\", inplace=True)\n",
    "data_EI.type.replace(\"ISTP\",\"Introversion\", inplace=True)\n",
    "data_EI.type.replace(\"ISFP\",\"Introversion\", inplace=True)\n",
    "data_EI.type.replace(\"ISTJ\",\"Introversion\", inplace=True)\n",
    "data_EI.type.replace(\"ISFJ\",\"Introversion\", inplace=True)\n",
    "data_EI.type.replace(\"ENTP\",\"Extraversion\", inplace=True)\n",
    "data_EI.type.replace(\"ENFP\",\"Extraversion\", inplace=True)\n",
    "data_EI.type.replace(\"ENTJ\",\"Extraversion\", inplace=True)\n",
    "data_EI.type.replace(\"ENFJ\",\"Extraversion\", inplace=True)\n",
    "data_EI.type.replace(\"ESTP\",\"Extraversion\", inplace=True)\n",
    "data_EI.type.replace(\"ESFP\",\"Extraversion\", inplace=True)\n",
    "data_EI.type.replace(\"ESFJ\",\"Extraversion\", inplace=True)\n",
    "data_EI.type.replace(\"ESTJ\",\"Extraversion\", inplace=True)\n",
    "target_names_2 = ['Extraversion', 'Introversion']"
   ]
  },
  {
   "cell_type": "code",
   "execution_count": 8,
   "metadata": {},
   "outputs": [],
   "source": [
    "#Dataset for Intuition vs Sensing\n",
    "data_SI = data.copy()\n",
    "data_SI.type.replace(\"INFP\",\"Intuition\", inplace=True)\n",
    "data_SI.type.replace(\"INFJ\",\"Intuition\", inplace=True)\n",
    "data_SI.type.replace(\"INTP\",\"Intuition\", inplace=True)\n",
    "data_SI.type.replace(\"INTJ\",\"Intuition\", inplace=True)\n",
    "data_SI.type.replace(\"ISTP\",\"Sensing\", inplace=True)\n",
    "data_SI.type.replace(\"ISFP\",\"Sensing\", inplace=True)\n",
    "data_SI.type.replace(\"ISTJ\",\"Sensing\", inplace=True)\n",
    "data_SI.type.replace(\"ISFJ\",\"Sensing\", inplace=True)\n",
    "data_SI.type.replace(\"ENTP\",\"Intuition\", inplace=True)\n",
    "data_SI.type.replace(\"ENFP\",\"Intuition\", inplace=True)\n",
    "data_SI.type.replace(\"ENTJ\",\"Intuition\", inplace=True)\n",
    "data_SI.type.replace(\"ENFJ\",\"Intuition\", inplace=True)\n",
    "data_SI.type.replace(\"ESTP\",\"Sensing\", inplace=True)\n",
    "data_SI.type.replace(\"ESFP\",\"Sensing\", inplace=True)\n",
    "data_SI.type.replace(\"ESFJ\",\"Sensing\", inplace=True)\n",
    "data_SI.type.replace(\"ESTJ\",\"Sensing\", inplace=True)\n",
    "target_names_3 = ['Intuition', 'Sensing']"
   ]
  },
  {
   "cell_type": "code",
   "execution_count": 9,
   "metadata": {},
   "outputs": [],
   "source": [
    "#Dataset for Feeling vs Thinking\n",
    "data_TF = data.copy()\n",
    "data_TF.type.replace(\"INFP\",\"Feeling\", inplace=True)\n",
    "data_TF.type.replace(\"INFJ\",\"Feeling\", inplace=True)\n",
    "data_TF.type.replace(\"INTP\",\"Thinking\", inplace=True)\n",
    "data_TF.type.replace(\"INTJ\",\"Thinking\", inplace=True)\n",
    "data_TF.type.replace(\"ISTP\",\"Thinking\", inplace=True)\n",
    "data_TF.type.replace(\"ISFP\",\"Feeling\", inplace=True)\n",
    "data_TF.type.replace(\"ISTJ\",\"Thinking\", inplace=True)\n",
    "data_TF.type.replace(\"ISFJ\",\"Feeling\", inplace=True)\n",
    "data_TF.type.replace(\"ENTP\",\"Thinking\", inplace=True)\n",
    "data_TF.type.replace(\"ENFP\",\"Feeling\", inplace=True)\n",
    "data_TF.type.replace(\"ENTJ\",\"Thinking\", inplace=True)\n",
    "data_TF.type.replace(\"ENFJ\",\"Feeling\", inplace=True)\n",
    "data_TF.type.replace(\"ESTP\",\"Thinking\", inplace=True)\n",
    "data_TF.type.replace(\"ESFP\",\"Feeling\", inplace=True)\n",
    "data_TF.type.replace(\"ESFJ\",\"Feeling\", inplace=True)\n",
    "data_TF.type.replace(\"ESTJ\",\"Thinking\", inplace=True)\n",
    "target_names_4 = ['Feeling', 'Thinking']"
   ]
  },
  {
   "cell_type": "code",
   "execution_count": 10,
   "metadata": {},
   "outputs": [],
   "source": [
    "#Dataset for Perceiving vs Judging\n",
    "data_JP = data.copy()\n",
    "data_JP.type.replace(\"INFP\",\"Perceiving\", inplace=True)\n",
    "data_JP.type.replace(\"INFJ\",\"Judging\", inplace=True)\n",
    "data_JP.type.replace(\"INTP\",\"Perceiving\", inplace=True)\n",
    "data_JP.type.replace(\"INTJ\",\"Judging\", inplace=True)\n",
    "data_JP.type.replace(\"ISTP\",\"Perceiving\", inplace=True)\n",
    "data_JP.type.replace(\"ISFP\",\"Perceiving\", inplace=True)\n",
    "data_JP.type.replace(\"ISTJ\",\"Judging\", inplace=True)\n",
    "data_JP.type.replace(\"ISFJ\",\"Judging\", inplace=True)\n",
    "data_JP.type.replace(\"ENTP\",\"Perceiving\", inplace=True)\n",
    "data_JP.type.replace(\"ENFP\",\"Perceiving\", inplace=True)\n",
    "data_JP.type.replace(\"ENTJ\",\"Judging\", inplace=True)\n",
    "data_JP.type.replace(\"ENFJ\",\"Judging\", inplace=True)\n",
    "data_JP.type.replace(\"ESTP\",\"Perceiving\", inplace=True)\n",
    "data_JP.type.replace(\"ESFP\",\"Perceiving\", inplace=True)\n",
    "data_JP.type.replace(\"ESFJ\",\"Judging\", inplace=True)\n",
    "data_JP.type.replace(\"ESTJ\",\"Judging\", inplace=True)\n",
    "target_names_5 = ['Judging', 'Perceiving']"
   ]
  },
  {
   "cell_type": "code",
   "execution_count": 11,
   "metadata": {},
   "outputs": [],
   "source": [
    "#Switch Case selectors for dataset and target names\n",
    "def classification_dataset(argument): \n",
    "    switcher = { \n",
    "        0: data, \n",
    "        1: data_7c, \n",
    "        2: data_EI,\n",
    "        3: data_SI,\n",
    "        4: data_TF,\n",
    "        5: data_JP\n",
    "    } \n",
    "    return switcher.get(argument, \"nothing\") \n",
    "\n",
    "def classification_target_names(argument): \n",
    "    switcher = { \n",
    "        0: target_names_0, \n",
    "        1: target_names_1, \n",
    "        2: target_names_2,\n",
    "        3: target_names_3,\n",
    "        4: target_names_4,\n",
    "        5: target_names_5\n",
    "    } \n",
    "    return switcher.get(argument, \"nothing\") "
   ]
  },
  {
   "cell_type": "markdown",
   "metadata": {},
   "source": [
    "### Choose  Dataset to run Classification. (Change value of number variable from 0 to 5) \n",
    "#### 0- 16 Classes Classification\n",
    "#### 1- 07 Classes Classification\n",
    "#### 2- Extraversion-Introversion Classification\n",
    "#### 3- Sensing-Intuition Classification\n",
    "#### 4- Thinking-Feeling Classification\n",
    "#### 5- Judging-Perceiving Classification\n"
   ]
  },
  {
   "cell_type": "code",
   "execution_count": 12,
   "metadata": {},
   "outputs": [
    {
     "name": "stdout",
     "output_type": "stream",
     "text": [
      "           type                                              final\n",
      "0     Intuition  youtube youtube enfp intj moments youtube spor...\n",
      "1     Intuition  im finding lack posts alarming sex boring posi...\n",
      "2     Intuition  good one youtube course say know thats blessin...\n",
      "3     Intuition  dear intp enjoyed conversation day esoteric ga...\n",
      "4     Intuition  youre fired thats another silly misconception ...\n",
      "...         ...                                                ...\n",
      "8670    Sensing  youtube ixfp always think cats fi doms reason ...\n",
      "8671  Intuition  soif thread already exists someplace else yout...\n",
      "8672  Intuition  many questions things would take purple pill p...\n",
      "8673  Intuition  conflicted right comes wanting children honest...\n",
      "8674  Intuition  long since personalitycafe although doesnt see...\n",
      "\n",
      "[8675 rows x 2 columns]\n"
     ]
    }
   ],
   "source": [
    "#Change this number to select desired Dataset\n",
    "number=3\n",
    "\n",
    "\n",
    "new_data=classification_dataset(number)\n",
    "target_name=classification_target_names(number)\n",
    "print(new_data)"
   ]
  },
  {
   "cell_type": "markdown",
   "metadata": {},
   "source": [
    "# 3. Pre Processing Data"
   ]
  },
  {
   "cell_type": "markdown",
   "metadata": {},
   "source": [
    "## 3.1 Tokenization and Encoding"
   ]
  },
  {
   "cell_type": "code",
   "execution_count": 13,
   "metadata": {},
   "outputs": [
    {
     "name": "stdout",
     "output_type": "stream",
     "text": [
      "Found 141503 unique tokens.\n"
     ]
    }
   ],
   "source": [
    "# The maximum number of words to be used.\n",
    "MAX_NB_WORDS = 50000\n",
    "# Max number of words in each post.\n",
    "MAX_SEQUENCE_LENGTH = 500\n",
    "EMBEDDING_DIM = 100\n",
    "#Filter any remaining special character and set everything to lower case\n",
    "tokenizer = Tokenizer(num_words=MAX_NB_WORDS, filters='!\"#$%&()*+,-./:;<=>?@[\\]^_`{|}~', lower=True)\n",
    "#Apply tokenizer on dataset\n",
    "tokenizer.fit_on_texts(new_data['final'].values)\n",
    "word_index = tokenizer.word_index\n",
    "print('Found %s unique tokens.' % len(word_index))"
   ]
  },
  {
   "cell_type": "code",
   "execution_count": 14,
   "metadata": {},
   "outputs": [
    {
     "name": "stdout",
     "output_type": "stream",
     "text": [
      "Shape of data tensor: (8675, 500)\n"
     ]
    }
   ],
   "source": [
    "#Tokenization of text into array of numbers\n",
    "X = tokenizer.texts_to_sequences(new_data['final'].values)\n",
    "X = pad_sequences(X, maxlen=MAX_SEQUENCE_LENGTH)\n",
    "print('Shape of data tensor:', X.shape)"
   ]
  },
  {
   "cell_type": "code",
   "execution_count": 15,
   "metadata": {},
   "outputs": [
    {
     "name": "stdout",
     "output_type": "stream",
     "text": [
      "Shape of label tensor: (8675, 2)\n"
     ]
    }
   ],
   "source": [
    "#One hot encoder for labels\n",
    "Y = pd.get_dummies(new_data['type']).values\n",
    "print('Shape of label tensor:', Y.shape)"
   ]
  },
  {
   "cell_type": "code",
   "execution_count": 16,
   "metadata": {},
   "outputs": [
    {
     "name": "stdout",
     "output_type": "stream",
     "text": [
      "[1 0]\n",
      "Intuition\n",
      "[0 1]\n",
      "Sensing\n"
     ]
    }
   ],
   "source": [
    "#Use to confirm right codification of label\n",
    "maps1=[]\n",
    "index1=0\n",
    "for i in new_data['type']:\n",
    "    if (i not in maps1):\n",
    "        maps1.append(i)\n",
    "        print(Y[index1])\n",
    "        print(new_data['type'][index1])\n",
    "    index1=index1+1"
   ]
  },
  {
   "cell_type": "markdown",
   "metadata": {},
   "source": [
    "## 3.2 Training and Test Dataset Creation"
   ]
  },
  {
   "cell_type": "code",
   "execution_count": 17,
   "metadata": {},
   "outputs": [
    {
     "name": "stdout",
     "output_type": "stream",
     "text": [
      "(6940, 500) (6940, 2)\n",
      "(1735, 500) (1735, 2)\n"
     ]
    }
   ],
   "source": [
    "#Split training and testing set\n",
    "X_train, X_test, Y_train, Y_test = train_test_split(X,Y, test_size = 0.20, random_state = 42)\n",
    "print(X_train.shape,Y_train.shape)\n",
    "print(X_test.shape,Y_test.shape)"
   ]
  },
  {
   "cell_type": "code",
   "execution_count": 18,
   "metadata": {},
   "outputs": [
    {
     "name": "stdout",
     "output_type": "stream",
     "text": [
      "Tokenized sentences: \n",
      " [  191 10056  1251  1137    85     8    12    34    59  5276  3935   194\n",
      "   234  1252   124   124   272   346 11892   213   293   752   483    25\n",
      "   124   288   510  1777     6    38 15070   199     8    22    73    24\n",
      "   425   490    45    49  9403    76   867    67    22    24    88  1057\n",
      "  1274     7    70    99    82   139  1446     1     8   181  2467   620\n",
      "   310   113    45    49  9403   387    12 10253   404  4355  7098   305\n",
      "  8297  2967  7327  1784   162   336    21  1769    19   272   272 11892\n",
      "   621  4653   371 11892   291 15612  8807  6073  3120   399    16  4476\n",
      "    45   845    10  1703     2  8530   438  1851  4172     2   481     2\n",
      "   513    68  5619  4356  8666   206  1456   284   310    78  2651 10464\n",
      "   776 24968 41988 34954     8   115   330    91   708  2821  3436    17\n",
      "  1328    99  4765  8666     8   212  1456 19330 20329  8400  1925   490\n",
      "  1514  4028  1053     1  1053     1  4028  2271   392   131   967   146\n",
      "   927  6019   432   146   405    58   392   779    18   493   391  2271\n",
      "  4139    11   108    34   529  4739   187  1830  1262   170 11592   299\n",
      "  1173  1724   187  4886    74     6     7   165    47    15     2  1071\n",
      "     1    43    46   106   417    21    22    63    36    22    61    19\n",
      "  1055   168     6     3  6333  1321   364    34   779   315   138  1217\n",
      "    48    13     7   949    80  1147    10   915  5912   935     1   461\n",
      "   751  3290     1  3077     7   227     7     7    67  3460  3506  3645\n",
      "  3484     9   488   227  1736     1  1983  2349   165     2 18396    51\n",
      "     4    69   465   978   405   114  1011    51   781   426  6271   516\n",
      "     1   171    94   325   129    13  1014   219  2598 12225   245   189\n",
      "    31   364     2  1547    30   419  2196     7     1 41989  1753  1507\n",
      "   925     1   357   399   276   917    25   517   399 34955     9    37\n",
      "    80   109     2 12915   493  3859 30397  3811  3681  8297  4654  1570\n",
      "   215   834 20330 19331  1536   489     1 10671   493  6272   177   304\n",
      "   246     2   280    10   465     5   947  7785 21564    11    11     2\n",
      "  2041   200     6   438    11  1626     3   507    40  1614    79    13\n",
      "   143    57    40    68    57   345     1 19332  1910   402   632    52\n",
      "   489  3368     9  1430    43    20    51  4300  1753  1507    21  2572\n",
      "    48    26  1217  4822   246    27   117   321  5492   131  2843   399\n",
      "   115   260   399   205   228  1324     1  1570  5402  5402  5402  9879\n",
      "    34   110   380  1568    32     2   455    46   133   220  7099    76\n",
      "    31   296    27   780   108     3   114   446     6   267    99   593\n",
      "     1    43    63 24969  2943     1 30398  1267   470  2730  1600   299\n",
      "   388  5854   467     9  1004   276  1105   403   235  1105  4301    25\n",
      "   124   198   619    52  7247   299 13327  4853    12  8088   496  4327\n",
      "  2387  4327    68   114   344  6591   504     2  6020    98    11    11\n",
      "   119    66   559   457    57  8194   120   724  6020    11    68    10\n",
      "   799   545     7   763 17573    77  2943     3   161    67    91   150\n",
      "  4740     2  4113  4740  2943    48    48   114]\n"
     ]
    }
   ],
   "source": [
    "#Visualization of tokenized sentences\n",
    "print('Tokenized sentences: \\n', X[1])"
   ]
  },
  {
   "cell_type": "markdown",
   "metadata": {},
   "source": [
    "# 4. Classification "
   ]
  },
  {
   "cell_type": "code",
   "execution_count": 19,
   "metadata": {},
   "outputs": [
    {
     "name": "stdout",
     "output_type": "stream",
     "text": [
      "WARNING:tensorflow:From /opt/conda/lib/python3.7/site-packages/tensorflow_core/python/keras/initializers.py:119: calling RandomUniform.__init__ (from tensorflow.python.ops.init_ops) with dtype is deprecated and will be removed in a future version.\n",
      "Instructions for updating:\n",
      "Call initializer instance with the dtype argument instead of passing it to the constructor\n",
      "WARNING:tensorflow:From /opt/conda/lib/python3.7/site-packages/tensorflow_core/python/ops/resource_variable_ops.py:1630: calling BaseResourceVariable.__init__ (from tensorflow.python.ops.resource_variable_ops) with constraint is deprecated and will be removed in a future version.\n",
      "Instructions for updating:\n",
      "If using Keras pass *_constraint arguments to layers.\n",
      "Model: \"sequential\"\n",
      "_________________________________________________________________\n",
      "Layer (type)                 Output Shape              Param #   \n",
      "=================================================================\n",
      "embedding (Embedding)        (None, 500, 100)          5000000   \n",
      "_________________________________________________________________\n",
      "dropout (Dropout)            (None, 500, 100)          0         \n",
      "_________________________________________________________________\n",
      "lstm (LSTM)                  (None, 500)               1202000   \n",
      "_________________________________________________________________\n",
      "dense (Dense)                (None, 2)                 1002      \n",
      "=================================================================\n",
      "Total params: 6,203,002\n",
      "Trainable params: 6,203,002\n",
      "Non-trainable params: 0\n",
      "_________________________________________________________________\n",
      "None\n"
     ]
    }
   ],
   "source": [
    "#Model setup LSTM\n",
    "model = Sequential()\n",
    "model.add(Embedding(MAX_NB_WORDS, EMBEDDING_DIM, input_length=X.shape[1]))\n",
    "model.add(Dropout(0.3))\n",
    "model.add(LSTM(500, dropout=0.3))\n",
    "model.add(Dense(2, activation='softmax'))\n",
    "model.compile(loss='categorical_crossentropy', optimizer='adam', metrics=['accuracy'])\n",
    "print(model.summary())"
   ]
  },
  {
   "cell_type": "code",
   "execution_count": 20,
   "metadata": {},
   "outputs": [
    {
     "name": "stdout",
     "output_type": "stream",
     "text": [
      "WARNING:tensorflow:From /opt/conda/lib/python3.7/site-packages/tensorflow_core/python/ops/math_grad.py:1424: where (from tensorflow.python.ops.array_ops) is deprecated and will be removed in a future version.\n",
      "Instructions for updating:\n",
      "Use tf.where in 2.0, which has the same broadcast rule as np.where\n",
      "Train on 4858 samples, validate on 2082 samples\n",
      "Epoch 1/15\n",
      "4858/4858 [==============================] - 26s 5ms/sample - loss: 0.5320 - acc: 0.8448 - val_loss: 0.4085 - val_acc: 0.8612\n",
      "Epoch 2/15\n",
      "4858/4858 [==============================] - 24s 5ms/sample - loss: 0.3856 - acc: 0.8637 - val_loss: 0.4011 - val_acc: 0.8612\n",
      "Epoch 3/15\n",
      "4858/4858 [==============================] - 23s 5ms/sample - loss: 0.3472 - acc: 0.8639 - val_loss: 0.4058 - val_acc: 0.8607\n",
      "Epoch 4/15\n",
      "4858/4858 [==============================] - 24s 5ms/sample - loss: 0.2629 - acc: 0.8845 - val_loss: 0.4754 - val_acc: 0.8477\n",
      "Epoch 5/15\n",
      "4858/4858 [==============================] - 24s 5ms/sample - loss: 0.1645 - acc: 0.9327 - val_loss: 0.6511 - val_acc: 0.8463\n"
     ]
    }
   ],
   "source": [
    "#Number of epochs and batch size to run model\n",
    "epochs = 15\n",
    "batch_size = 200\n",
    "\n",
    "history = model.fit(X_train, Y_train, epochs=epochs,\n",
    "                    batch_size=batch_size,\n",
    "                    validation_split=0.3,\n",
    "                    callbacks=[EarlyStopping(monitor='val_loss', patience=3, min_delta=0.0001)])"
   ]
  },
  {
   "cell_type": "code",
   "execution_count": 21,
   "metadata": {},
   "outputs": [
    {
     "name": "stdout",
     "output_type": "stream",
     "text": [
      "1735/1735 [==============================] - 12s 7ms/sample - loss: 0.6890 - acc: 0.8444\n",
      "Test set\n",
      "  Loss: 0.689\n",
      "  Accuracy: 0.844\n"
     ]
    }
   ],
   "source": [
    "#Type Accuracy\n",
    "accr = model.evaluate(X_test,Y_test)\n",
    "print('Test set\\n  Loss: {:0.3f}\\n  Accuracy: {:0.3f}'.format(accr[0],accr[1]))"
   ]
  },
  {
   "cell_type": "markdown",
   "metadata": {},
   "source": [
    "## 4.1 Plot Loss and Accuracy"
   ]
  },
  {
   "cell_type": "code",
   "execution_count": 22,
   "metadata": {},
   "outputs": [
    {
     "data": {
      "image/png": "[encoded data removed]",
      "text/plain": [
       "<Figure size 432x288 with 1 Axes>"
      ]
     },
     "metadata": {},
     "output_type": "display_data"
    }
   ],
   "source": [
    "#Loss Plot\n",
    "sns.set(font_scale=1) \n",
    "plt.title('Loss')\n",
    "plt.plot(history.history['loss'], label='train')\n",
    "plt.plot(history.history['val_loss'], label='Validation')\n",
    "plt.legend()\n",
    "plt.show();"
   ]
  },
  {
   "cell_type": "code",
   "execution_count": 23,
   "metadata": {},
   "outputs": [
    {
     "data": {
      "image/png": "[encoded data removed]",
      "text/plain": [
       "<Figure size 432x288 with 1 Axes>"
      ]
     },
     "metadata": {},
     "output_type": "display_data"
    }
   ],
   "source": [
    "#Accuracy Plot\n",
    "sns.set(font_scale=1) \n",
    "plt.title('Accuracy')\n",
    "plt.plot(history.history['acc'], label='train')\n",
    "plt.plot(history.history['val_acc'], label='Validation')\n",
    "plt.legend()\n",
    "plt.show();"
   ]
  },
  {
   "cell_type": "code",
   "execution_count": 24,
   "metadata": {},
   "outputs": [],
   "source": [
    "#Predict testing set\n",
    "Y_pred = model.predict(X_test)"
   ]
  },
  {
   "cell_type": "code",
   "execution_count": 25,
   "metadata": {},
   "outputs": [
    {
     "name": "stdout",
     "output_type": "stream",
     "text": [
      "[[9.91813421e-01 8.18655454e-03]\n",
      " [8.11289847e-01 1.88710153e-01]\n",
      " [9.99276817e-01 7.23233272e-04]\n",
      " ...\n",
      " [9.96772230e-01 3.22774216e-03]\n",
      " [8.87800336e-01 1.12199634e-01]\n",
      " [9.97964263e-01 2.03576055e-03]]\n"
     ]
    }
   ],
   "source": [
    "#Prediction Visualization\n",
    "print(Y_pred)"
   ]
  },
  {
   "cell_type": "markdown",
   "metadata": {},
   "source": [
    "# 5. Results Visualization"
   ]
  },
  {
   "cell_type": "code",
   "execution_count": 26,
   "metadata": {},
   "outputs": [],
   "source": [
    "#Confusion Matrix Calculation\n",
    "cnf_matrix = confusion_matrix(Y_test.argmax(axis=1), Y_pred.argmax(axis=1))\n",
    "FP = cnf_matrix.sum(axis=0) - np.diag(cnf_matrix)\n",
    "FN = cnf_matrix.sum(axis=1) - np.diag(cnf_matrix)\n",
    "TP = np.diag(cnf_matrix)\n",
    "TN = cnf_matrix.sum() - (FP + FN + TP)"
   ]
  },
  {
   "cell_type": "code",
   "execution_count": 27,
   "metadata": {},
   "outputs": [
    {
     "data": {
      "image/png": "[encoded data removed]",
      "text/plain": [
       "<Figure size 720x720 with 2 Axes>"
      ]
     },
     "metadata": {},
     "output_type": "display_data"
    }
   ],
   "source": [
    "#HeatMap Visualization\n",
    "fig, ax = plt.subplots(figsize=(10,10))\n",
    "if Y.shape[1]==2:\n",
    "    sns.set(font_scale=2)\n",
    "else:\n",
    "    sns.set(font_scale=1) \n",
    "    \n",
    "sns.heatmap(cnf_matrix, annot=True, fmt='d',xticklabels=target_name, yticklabels=target_name,cmap=\"Blues\")\n",
    "plt.ylabel('Actual')\n",
    "plt.xlabel('Predicted')\n",
    "plt.show()"
   ]
  },
  {
   "cell_type": "code",
   "execution_count": 28,
   "metadata": {},
   "outputs": [
    {
     "name": "stdout",
     "output_type": "stream",
     "text": [
      "0.8443804034582133\n"
     ]
    }
   ],
   "source": [
    "#Categorical Accuracy Calculation\n",
    "df = pd.DataFrame(Y_test, columns = target_name)\n",
    "Y_t=pd.get_dummies(df).idxmax(1)\n",
    "df1 = pd.DataFrame(Y_pred, columns = target_name)\n",
    "Y_p=pd.get_dummies(df1).idxmax(1)\n",
    "Categorical_Acc=(Y_t==Y_p).mean()\n",
    "print(Categorical_Acc)"
   ]
  },
  {
   "cell_type": "code",
   "execution_count": null,
   "metadata": {},
   "outputs": [],
   "source": []
  }
 ],
 "metadata": {
  "kernelspec": {
   "display_name": "Python 3",
   "language": "python",
   "name": "python3"
  },
  "language_info": {
   "codemirror_mode": {
    "name": "ipython",
    "version": 3
   },
   "file_extension": ".py",
   "mimetype": "text/x-python",
   "name": "python",
   "nbconvert_exporter": "python",
   "pygments_lexer": "ipython3",
   "version": "3.8.8"
  }
 },
 "nbformat": 4,
 "nbformat_minor": 4
}
