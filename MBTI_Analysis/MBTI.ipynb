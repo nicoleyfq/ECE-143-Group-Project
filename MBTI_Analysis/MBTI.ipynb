{
 "cells": [
  {
   "cell_type": "markdown",
   "metadata": {},
   "source": [
    "# MBTI Analysis\n",
    "\n",
    "The Myers Briggs Type Indicator (or MBTI for short) is a personality type system that divides everyone into 16 distinct personality types.\n",
    "\n",
    "This project is use python to analyze the MBTIs validity and ability to predict language styles and behaviour online.\n",
    "Production of a machine learning algorithm that can attempt to determine a person’s personality type based on some text they have written."
   ]
  },
  {
   "cell_type": "markdown",
   "metadata": {},
   "source": [
    "## 1. Distribution of personality types"
   ]
  },
  {
   "cell_type": "code",
   "execution_count": 1,
   "metadata": {},
   "outputs": [],
   "source": [
    "import pandas as pd\n",
    "import numpy as np\n",
    "from collections import Counter\n",
    "import re\n",
    "import gensim\n",
    "from gensim.utils import simple_preprocess \n",
    "from nltk import word_tokenize\n",
    "from nltk.corpus import stopwords\n",
    "from sklearn.feature_extraction.text import CountVectorizer,TfidfVectorizer\n",
    "from textblob import TextBlob\n",
    "from tqdm import tqdm\n",
    "from os import path\n",
    "from PIL import Image\n",
    "from wordcloud import WordCloud, STOPWORDS, ImageColorGenerator\n",
    "import matplotlib.pyplot as plt\n",
    "import seaborn as sns"
   ]
  },
  {
   "cell_type": "code",
   "execution_count": 26,
   "metadata": {},
   "outputs": [
    {
     "name": "stdout",
     "output_type": "stream",
     "text": [
      "(8675, 2)\n"
     ]
    },
    {
     "data": {
      "text/html": [
       "<div>\n",
       "<style scoped>\n",
       "    .dataframe tbody tr th:only-of-type {\n",
       "        vertical-align: middle;\n",
       "    }\n",
       "\n",
       "    .dataframe tbody tr th {\n",
       "        vertical-align: top;\n",
       "    }\n",
       "\n",
       "    .dataframe thead th {\n",
       "        text-align: right;\n",
       "    }\n",
       "</style>\n",
       "<table border=\"1\" class=\"dataframe\">\n",
       "  <thead>\n",
       "    <tr style=\"text-align: right;\">\n",
       "      <th></th>\n",
       "      <th>type</th>\n",
       "      <th>final</th>\n",
       "    </tr>\n",
       "  </thead>\n",
       "  <tbody>\n",
       "    <tr>\n",
       "      <th>0</th>\n",
       "      <td>INFJ</td>\n",
       "      <td>youtube youtube enfp intj moments youtube spor...</td>\n",
       "    </tr>\n",
       "    <tr>\n",
       "      <th>1</th>\n",
       "      <td>ENTP</td>\n",
       "      <td>im finding lack posts alarming sex boring posi...</td>\n",
       "    </tr>\n",
       "    <tr>\n",
       "      <th>2</th>\n",
       "      <td>INTP</td>\n",
       "      <td>good one youtube course say know thats blessin...</td>\n",
       "    </tr>\n",
       "    <tr>\n",
       "      <th>3</th>\n",
       "      <td>INTJ</td>\n",
       "      <td>dear intp enjoyed conversation day esoteric ga...</td>\n",
       "    </tr>\n",
       "    <tr>\n",
       "      <th>4</th>\n",
       "      <td>ENTJ</td>\n",
       "      <td>youre fired thats another silly misconception ...</td>\n",
       "    </tr>\n",
       "  </tbody>\n",
       "</table>\n",
       "</div>"
      ],
      "text/plain": [
       "   type                                              final\n",
       "0  INFJ  youtube youtube enfp intj moments youtube spor...\n",
       "1  ENTP  im finding lack posts alarming sex boring posi...\n",
       "2  INTP  good one youtube course say know thats blessin...\n",
       "3  INTJ  dear intp enjoyed conversation day esoteric ga...\n",
       "4  ENTJ  youre fired thats another silly misconception ..."
      ]
     },
     "execution_count": 26,
     "metadata": {},
     "output_type": "execute_result"
    }
   ],
   "source": [
    "data = pd.read_csv('cleaned_raw.csv')\n",
    "data = data.drop(data.columns[0], axis=1)\n",
    "print(data.shape)\n",
    "data.head()"
   ]
  },
  {
   "cell_type": "code",
   "execution_count": 4,
   "metadata": {},
   "outputs": [
    {
     "name": "stdout",
     "output_type": "stream",
     "text": [
      "Counter({'INFP': 1832, 'INFJ': 1470, 'INTP': 1304, 'INTJ': 1091, 'ENTP': 685, 'ENFP': 675, 'ISTP': 337, 'ISFP': 271, 'ENTJ': 231, 'ISTJ': 205, 'ENFJ': 190, 'ISFJ': 166, 'ESTP': 89, 'ESFP': 48, 'ESFJ': 42, 'ESTJ': 39})\n"
     ]
    },
    {
     "data": {
      "text/plain": [
       "<matplotlib.axes._subplots.AxesSubplot at 0x7f1b15426410>"
      ]
     },
     "execution_count": 4,
     "metadata": {},
     "output_type": "execute_result"
    },
    {
     "data": {
      "image/png": "[encoded data removed]",
      "text/plain": [
       "<Figure size 720x432 with 1 Axes>"
      ]
     },
     "metadata": {
      "needs_background": "light"
     },
     "output_type": "display_data"
    }
   ],
   "source": [
    "count = Counter(data['type'])\n",
    "print(count)\n",
    "sorted_type = sorted(count, key=count.get, reverse=True)\n",
    "plt.figure(figsize = [10,6])\n",
    "sns.countplot(x=data['type'], palette =\"Set2\",order = sorted_type)"
   ]
  },
  {
   "cell_type": "markdown",
   "metadata": {},
   "source": [
    "## 2. Keywords related to different personality type"
   ]
  },
  {
   "cell_type": "code",
   "execution_count": 5,
   "metadata": {},
   "outputs": [
    {
     "data": {
      "text/plain": [
       "<matplotlib.axes._subplots.AxesSubplot at 0x7f1b14e594d0>"
      ]
     },
     "execution_count": 5,
     "metadata": {},
     "output_type": "execute_result"
    },
    {
     "data": {
      "image/png": "[encoded data removed]",
      "text/plain": [
       "<Figure size 576x288 with 1 Axes>"
      ]
     },
     "metadata": {
      "needs_background": "light"
     },
     "output_type": "display_data"
    }
   ],
   "source": [
    "mapping = {\n",
    "    'I': 'Introversion',\n",
    "    'E': 'Extroversion',\n",
    "    'N': 'Intuition',\n",
    "    'S': 'Sensing',\n",
    "    'T': 'Thinking',\n",
    "    'F': 'Feeling',\n",
    "    'J': 'Judging',\n",
    "    'P': 'Perceiving',\n",
    "}\n",
    "\n",
    "\n",
    "m = pd.DataFrame()\n",
    "for c in 'INTJESFP':\n",
    "    m[c] = data['type'].apply(lambda x: 1 if c in x else 0)\n",
    "#m.head()\n",
    "bar_m = m.sum().sort_values(ascending=False).rename(lambda x: mapping[x])\n",
    "plt.figure(figsize = [8,4])\n",
    "sns.barplot(x=bar_m.values,y=bar_m.index,palette =\"Set2\")"
   ]
  },
  {
   "cell_type": "code",
   "execution_count": 27,
   "metadata": {
    "scrolled": true
   },
   "outputs": [
    {
     "name": "stderr",
     "output_type": "stream",
     "text": [
      "  6%|▋         | 1/16 [00:00<00:14,  1.05it/s]"
     ]
    },
    {
     "name": "stdout",
     "output_type": "stream",
     "text": [
      "[('im', 131.733415777152), ('like', 105.48093477641956), ('infj', 91.62867355028744), ('dont', 80.35851564957527), ('think', 80.34235624547013), ('people', 76.85116800911089), ('youtube', 67.7023173587708), ('know', 63.191512561842536), ('really', 59.82256634585056), ('ive', 57.722513799240936)]\n"
     ]
    },
    {
     "name": "stderr",
     "output_type": "stream",
     "text": [
      "\r",
      " 12%|█▎        | 2/16 [00:01<00:11,  1.22it/s]"
     ]
    },
    {
     "name": "stdout",
     "output_type": "stream",
     "text": [
      "[('im', 55.90077092338921), ('entp', 51.838571964805844), ('like', 47.59773093602867), ('dont', 36.97862470621891), ('think', 35.815794630757814), ('people', 33.11438919936911), ('entps', 29.22877343321865), ('one', 27.252469936958793), ('know', 26.083210337466486), ('would', 25.540951192851992)]\n"
     ]
    },
    {
     "name": "stderr",
     "output_type": "stream",
     "text": [
      "\r",
      " 19%|█▉        | 3/16 [00:02<00:10,  1.23it/s]"
     ]
    },
    {
     "name": "stdout",
     "output_type": "stream",
     "text": [
      "[('im', 103.39959878999939), ('like', 87.35753926650524), ('dont', 74.6734676545683), ('intp', 74.66036413299643), ('think', 66.28425852455703), ('youtube', 65.28240100249654), ('people', 64.9412779751147), ('would', 54.51054260611907), ('one', 49.301935909828906), ('know', 47.748558307025256)]\n"
     ]
    },
    {
     "name": "stderr",
     "output_type": "stream",
     "text": [
      "\r",
      " 25%|██▌       | 4/16 [00:02<00:09,  1.28it/s]"
     ]
    },
    {
     "name": "stdout",
     "output_type": "stream",
     "text": [
      "[('im', 78.98574156416562), ('like', 70.29827955797543), ('intj', 68.76346756129252), ('dont', 60.707498404174444), ('people', 54.65289326855768), ('think', 51.6372537870775), ('youtube', 49.48802591840269), ('would', 45.722323529680786), ('one', 42.24026008740312), ('know', 40.57958010994121)]\n"
     ]
    },
    {
     "name": "stderr",
     "output_type": "stream",
     "text": [
      "\r",
      " 31%|███▏      | 5/16 [00:03<00:06,  1.59it/s]"
     ]
    },
    {
     "name": "stdout",
     "output_type": "stream",
     "text": [
      "[('entj', 20.232838115050765), ('im', 17.690642341747104), ('like', 15.134277033368722), ('dont', 12.612656863144178), ('think', 12.085397976107645), ('people', 11.072040882635088), ('entjs', 9.925817664998348), ('would', 9.331538573466265), ('youtube', 8.614033648712665), ('one', 8.586860086777518)]\n"
     ]
    },
    {
     "name": "stderr",
     "output_type": "stream",
     "text": [
      "\r",
      " 38%|███▊      | 6/16 [00:03<00:05,  1.96it/s]"
     ]
    },
    {
     "name": "stdout",
     "output_type": "stream",
     "text": [
      "[('im', 18.56473461944555), ('enfj', 16.915033168018415), ('like', 14.571680661061), ('think', 11.339172457086729), ('enfjs', 11.1770010149074), ('people', 10.540053204306675), ('dont', 10.1982509407253), ('really', 8.748203216810015), ('know', 8.668475222356355), ('would', 7.541899321935329)]\n"
     ]
    },
    {
     "name": "stderr",
     "output_type": "stream",
     "text": [
      "\r",
      " 44%|████▍     | 7/16 [00:04<00:06,  1.50it/s]"
     ]
    },
    {
     "name": "stdout",
     "output_type": "stream",
     "text": [
      "[('im', 174.90521070638383), ('like', 142.80609198003515), ('think', 105.08199686638825), ('dont', 104.36976822897813), ('infp', 99.63173516401014), ('youtube', 98.85044828392958), ('people', 95.34754851710835), ('really', 85.68880565885178), ('ive', 77.67001891254516), ('know', 76.4777437092448)]\n"
     ]
    },
    {
     "name": "stderr",
     "output_type": "stream",
     "text": [
      "\r",
      " 50%|█████     | 8/16 [00:05<00:05,  1.60it/s]"
     ]
    },
    {
     "name": "stdout",
     "output_type": "stream",
     "text": [
      "[('im', 64.13166560031469), ('like', 53.18181380661406), ('enfp', 52.900292876670996), ('think', 36.51074094501295), ('dont', 35.5958814062079), ('people', 33.09626349965548), ('really', 30.33400453352482), ('know', 29.183166805691524), ('enfps', 27.338673531823012), ('love', 26.884515368879214)]\n"
     ]
    },
    {
     "name": "stderr",
     "output_type": "stream",
     "text": [
      "\r",
      " 56%|█████▋    | 9/16 [00:05<00:03,  1.91it/s]"
     ]
    },
    {
     "name": "stdout",
     "output_type": "stream",
     "text": [
      "[('im', 26.955777718632586), ('isfp', 21.974897007458797), ('like', 21.484406314951787), ('youtube', 17.88838401511691), ('dont', 15.511360766341415), ('think', 14.451442809065021), ('really', 12.826277407577608), ('people', 12.136377047690758), ('isfps', 10.407655884231458), ('know', 10.229089731383764)]\n"
     ]
    },
    {
     "name": "stderr",
     "output_type": "stream",
     "text": [
      "\r",
      " 62%|██████▎   | 10/16 [00:05<00:02,  2.19it/s]"
     ]
    },
    {
     "name": "stdout",
     "output_type": "stream",
     "text": [
      "[('im', 29.338234385506603), ('istp', 26.32642943592303), ('like', 23.050183176255725), ('dont', 21.735425370675973), ('youtube', 19.384592579184915), ('think', 15.776107537782096), ('people', 15.689790493666166), ('get', 13.767782777246282), ('istps', 13.622979939660578), ('would', 12.982098207797572)]\n"
     ]
    },
    {
     "name": "stderr",
     "output_type": "stream",
     "text": [
      "\r",
      " 69%|██████▉   | 11/16 [00:05<00:01,  2.59it/s]"
     ]
    },
    {
     "name": "stdout",
     "output_type": "stream",
     "text": [
      "[('isfj', 17.217232389489183), ('im', 17.214912575907665), ('like', 12.117301266651427), ('think', 9.608942395878682), ('dont', 9.441366691339418), ('isfjs', 9.174528795589936), ('youtube', 8.899774158065311), ('people', 7.70505352360704), ('really', 7.404585396320023), ('know', 6.657090394436929)]\n"
     ]
    },
    {
     "name": "stderr",
     "output_type": "stream",
     "text": [
      " 81%|████████▏ | 13/16 [00:06<00:00,  3.42it/s]"
     ]
    },
    {
     "name": "stdout",
     "output_type": "stream",
     "text": [
      "[('istj', 17.581719512442728), ('im', 17.051705297077078), ('like', 14.91119437047105), ('dont', 12.658555737821496), ('think', 9.252558539083587), ('youtube', 8.586813497305728), ('people', 8.486216904364536), ('know', 7.928538382430548), ('one', 7.848485674564395), ('would', 7.737590048938902)]\n",
      "[('estp', 9.640648731730728), ('im', 7.404457813626132), ('like', 6.906338630240614), ('dont', 5.528513309495725), ('estps', 4.787758061967407), ('think', 4.727823634286338), ('people', 4.244020195690494), ('youtube', 4.129102208279349), ('get', 4.034111414134513), ('know', 3.709732762188909)]\n"
     ]
    },
    {
     "name": "stderr",
     "output_type": "stream",
     "text": [
      "\r",
      " 88%|████████▊ | 14/16 [00:06<00:00,  3.86it/s]"
     ]
    },
    {
     "name": "stdout",
     "output_type": "stream",
     "text": [
      "[('im', 4.043608865122327), ('esfp', 3.936965052695745), ('like', 3.281399077536115), ('dont', 2.7237907370946575), ('think', 2.5098017641360184), ('people', 2.162119454792508), ('youtube', 1.961953712520599), ('really', 1.8686967748336247), ('know', 1.8538478482222422), ('ive', 1.63641029080759)]\n"
     ]
    },
    {
     "name": "stderr",
     "output_type": "stream",
     "text": [
      "\r",
      " 94%|█████████▍| 15/16 [00:06<00:00,  4.04it/s]"
     ]
    },
    {
     "name": "stdout",
     "output_type": "stream",
     "text": [
      "[('estj', 3.9500466510644876), ('im', 3.089534749492181), ('estjs', 2.635655419479487), ('like', 2.221196243615097), ('think', 2.1185077510835795), ('dont', 2.0707380845518624), ('people', 1.843482695387269), ('would', 1.520830107338737), ('know', 1.4527548073353214), ('youtube', 1.356073478060193)]\n"
     ]
    },
    {
     "name": "stderr",
     "output_type": "stream",
     "text": [
      "100%|██████████| 16/16 [00:06<00:00,  2.32it/s]"
     ]
    },
    {
     "name": "stdout",
     "output_type": "stream",
     "text": [
      "[('esfj', 5.790543256300827), ('esfjs', 4.35492340421442), ('im', 4.087789149029297), ('like', 3.387123487489271), ('think', 2.806823405788415), ('dont', 2.43247163505305), ('people', 2.4314810300571748), ('know', 1.9104357311478228), ('type', 1.7943952462206432), ('really', 1.696879925027505)]\n"
     ]
    },
    {
     "name": "stderr",
     "output_type": "stream",
     "text": [
      "\n"
     ]
    }
   ],
   "source": [
    "def cal_words_importance(corpus,n,tf):\n",
    "    tfidf_matrix = (tf.transform(corpus)).sum(axis=0) \n",
    "    score = [(w,tfidf_matrix[0,i]) for w,i in tf.vocabulary_.items()]\n",
    "    score_n =sorted(score, key = lambda x: x[1], reverse=True)[:n]\n",
    "    return score_n\n",
    "\n",
    "top_words = {}\n",
    "tf = TfidfVectorizer().fit(data['final']) #Learn vocabulary and idf from training set.\n",
    "ls = data['type'].unique()\n",
    "for personality in tqdm(ls):\n",
    "    sub_data = data[data['type'] == personality]\n",
    "    res = cal_words_importance(sub_data['final'],10,tf)\n",
    "    top_words[personality] = res"
   ]
  },
  {
   "cell_type": "code",
   "execution_count": 7,
   "metadata": {},
   "outputs": [
    {
     "name": "stderr",
     "output_type": "stream",
     "text": [
      "100%|██████████| 2/2 [00:00<00:00, 16.55it/s]\n"
     ]
    }
   ],
   "source": [
    "all_docs = []\n",
    "for s in tqdm('EI'):\n",
    "    sub_data = data[data['type'].str.contains(s)]\n",
    "    str_ls = \"\".join(sub_data['final'])\n",
    "    all_docs.append(str_ls)\n",
    "vec = TfidfVectorizer(max_features=2000)\n",
    "transformed = vec.fit_transform(all_docs) "
   ]
  },
  {
   "cell_type": "code",
   "execution_count": 13,
   "metadata": {},
   "outputs": [],
   "source": [
    "words_score = {}\n",
    "transformed_documents_as_array = transformed.toarray()\n",
    "for counter, doc in enumerate(transformed_documents_as_array):\n",
    "    # construct a dataframe\n",
    "    tf_idf_tuples = list(zip(vec.get_feature_names(), doc))\n",
    "    one_doc_as_df = pd.DataFrame.from_records(tf_idf_tuples, columns=['term', 'score']).sort_values(by='score', ascending=False).reset_index(drop=True)\n",
    "    words_score[ls[counter]] = one_doc_as_df[:20]"
   ]
  },
  {
   "cell_type": "code",
   "execution_count": 14,
   "metadata": {},
   "outputs": [],
   "source": [
    "from ipywidgets import widgets,interact,interactive,fixed\n",
    "from wordcloud import WordCloud, STOPWORDS, ImageColorGenerator\n",
    "from string import digits \n",
    "import spacy\n",
    "#import en_core_web_sm"
   ]
  },
  {
   "cell_type": "code",
   "execution_count": 29,
   "metadata": {},
   "outputs": [
    {
     "data": {
      "application/vnd.jupyter.widget-view+json": {
       "model_id": "d93aaffd4aaa4f53a4e01dff63a90898",
       "version_major": 2,
       "version_minor": 0
      },
      "text/plain": [
       "interactive(children=(Dropdown(description='personality', options=('INFJ', 'ENTP', 'INTP', 'INTJ', 'ENTJ', 'EN…"
      ]
     },
     "metadata": {},
     "output_type": "display_data"
    },
    {
     "data": {
      "text/plain": [
       "<function __main__.plot_bar(personality)>"
      ]
     },
     "execution_count": 29,
     "metadata": {},
     "output_type": "execute_result"
    }
   ],
   "source": [
    "def plot_bar(personality):\n",
    "    \n",
    "    importance = [top_words[personality][i][1] for i in range(10)]\n",
    "    words = [top_words[personality][i][0] for i in range(10)]\n",
    "    plt.figure(figsize=[16,5])\n",
    "\n",
    "    sns.barplot(y = words,x = importance,palette =\"Set2\")\n",
    "    plt.title('Important Words')\n",
    "    plt.xlabel('TF-IDF Score')\n",
    "\n",
    "interact(plot_bar,Category=top_words.keys(),mytitle=fixed('Words Importance'),personality = top_words.keys())\n"
   ]
  },
  {
   "cell_type": "code",
   "execution_count": 11,
   "metadata": {},
   "outputs": [
    {
     "data": {
      "application/vnd.jupyter.widget-view+json": {
       "model_id": "4c7705fc039f43509a26f57f3385f4a6",
       "version_major": 2,
       "version_minor": 0
      },
      "text/plain": [
       "interactive(children=(Dropdown(description='personality', options=('INFJ', 'ENTP', 'INTP', 'INTJ', 'ENTJ', 'EN…"
      ]
     },
     "metadata": {},
     "output_type": "display_data"
    },
    {
     "data": {
      "text/plain": [
       "<function __main__.makingclouds(personality, maximum)>"
      ]
     },
     "execution_count": 11,
     "metadata": {},
     "output_type": "execute_result"
    }
   ],
   "source": [
    "###funtion for cloud that Im going to call with interact  ######  \n",
    "stop_words = stopwords.words('english')\n",
    "stop_words.extend(['im','like','dont','think','people','know','would','one',\n",
    "                   'thing','get','well','really','ive','type','time',\n",
    "                   'INFJ', 'ENTP', 'INTP', 'INTJ', 'ENTJ', 'ENFJ', 'INFP', 'ENFP', \n",
    "                   'ISFP', 'ISTP', 'ISFJ', 'ISTJ', 'ESTP', 'ESFP', 'ESTJ', 'ESFJ',\n",
    "                   'ISTPS','ISFPS','ESFJS'])\n",
    "def load_mask_image(path):\n",
    "    mask = np.array(Image.open(path))\n",
    "    #mask[mask > 200] = 255\n",
    "    #mask[mask <= 200] = 0\n",
    "    return mask\n",
    "\n",
    "mask = load_mask_image('mask.png')\n",
    "def makingclouds(personality,maximum):\n",
    "    personality_data = data[data['type'] == personality]\n",
    "    text = \" \".join(personality_data['final'].tolist())\n",
    "    wc = WordCloud(background_color=\"white\", max_words=maximum, mask=mask,\n",
    "                   stopwords=stop_words, contour_width=3)\n",
    "\n",
    "    # Generate a wordcloud\n",
    "    wc.generate(text)\n",
    "\n",
    "    # show\n",
    "    plt.figure(figsize=[20,6])\n",
    "    plt.subplot(121)\n",
    "    plt.imshow(wc, interpolation='bilinear')\n",
    "    plt.axis(\"off\")\n",
    "\n",
    "interact(makingclouds, Category=ls, personality = ls, maximum=[20,50,100,150])"
   ]
  },
  {
   "cell_type": "code",
   "execution_count": 33,
   "metadata": {
    "scrolled": true
   },
   "outputs": [
    {
     "data": {
      "application/vnd.jupyter.widget-view+json": {
       "model_id": "54a3a2e1634d4b1b8cb970fb4f0a6673",
       "version_major": 2,
       "version_minor": 0
      },
      "text/plain": [
       "interactive(children=(Dropdown(description='personality1', options=('I', 'E', 'N', 'S', 'T', 'F', 'J', 'P'), v…"
      ]
     },
     "metadata": {},
     "output_type": "display_data"
    },
    {
     "data": {
      "text/plain": [
       "<function __main__.unique_words_plot(personality1, personality2)>"
      ]
     },
     "execution_count": 33,
     "metadata": {},
     "output_type": "execute_result"
    }
   ],
   "source": [
    "\n",
    "cv = CountVectorizer(max_features=2000, strip_accents='ascii')\n",
    "result = cv.fit_transform(data['final'])\n",
    "\n",
    "tf_vec=TfidfVectorizer(use_idf=True,max_features=2000)\n",
    "result = tf_vec.fit_transform(data['final'])\n",
    "\n",
    "\n",
    "m_new = pd.concat([m, pd.DataFrame(result.toarray(), columns=['__' + k for k in cv.vocabulary_.keys()])],axis=1)\n",
    "words_col = [col for col in m_new.columns if col.startswith('__') and len(col) > 5]\n",
    "tf = m_new[words_col]#.T[m_new[words_col].mean() >= 0.5].T\n",
    "\n",
    "def unique_words_plot(personality1, personality2):\n",
    "    a = personality1\n",
    "    b = personality2\n",
    "    a_avg = tf[m_new[a] == 1].mean() \n",
    "    b_avg = tf[m_new[b] == 1].mean()\n",
    "    ratio = a_avg / b_avg\n",
    "    bar_plot = ratio.sort_values().rename(lambda x: x[2:]).tail(10)\n",
    "    plt.figure(figsize=[16,4])\n",
    "    sns.barplot(x=bar_plot.values,y=bar_plot.index,palette =\"Set2\")\n",
    "    plt.title(mapping[a] + ' vs ' + mapping[b])\n",
    "    plt.xlabel('Importance Ratio')\n",
    "    \n",
    "\n",
    "interact(unique_words_plot,mytitle=fixed('Words Importance'),personality1 = mapping.keys(),personality2 = mapping.keys())\n"
   ]
  },
  {
   "cell_type": "markdown",
   "metadata": {},
   "source": [
    "## Classification"
   ]
  },
  {
   "cell_type": "code",
   "execution_count": 34,
   "metadata": {},
   "outputs": [
    {
     "name": "stdout",
     "output_type": "stream",
     "text": [
      "Overall Train Accuracy: 0.8335695166115572\n",
      "Overall Test Accuracy: 0.49291784702549574\n",
      "=============================================\n",
      "Categorical Train Accuracy: 0.9354432372854669\n",
      "Categorical Test Accuracy: 0.8218838526912181\n"
     ]
    }
   ],
   "source": [
    "from sklearn.model_selection import train_test_split\n",
    "from sklearn.naive_bayes import MultinomialNB\n",
    "from sklearn.preprocessing import LabelEncoder\n",
    " \n",
    "df = data[data.type.isin([x[0] for x in count.most_common(6)])]\n",
    "vect = CountVectorizer(stop_words='english') \n",
    "X =  vect.fit_transform(df[\"final\"]) \n",
    "\n",
    "le = LabelEncoder()\n",
    "y = le.fit_transform(df[\"type\"])\n",
    "\n",
    "X_train, X_test, y_train, y_test = train_test_split(X, y, test_size=0.1, stratify=y, random_state=42)\n",
    "\n",
    "#Evaluating Acccuarcy across four categories indipendently \n",
    "def acc_by_category(ytest_predicted, y_test, le):\n",
    "    ype = np.array(list(\"\".join(le.inverse_transform(ytest_predicted))))\n",
    "    ye = np.array(list(\"\".join(le.inverse_transform(y_test))))\n",
    "    return (ype == ye).mean()\n",
    "\n",
    "clf = MultinomialNB()\n",
    "clf.fit(X_train, y_train)\n",
    "\n",
    "ytrain_predict = clf.predict(X_train)\n",
    "print(\"Overall Train Accuracy:\", np.mean(ytrain_predict == y_train))\n",
    "\n",
    "ytest_predicted = clf.predict(X_test)\n",
    "print(\"Overall Test Accuracy:\", np.mean(ytest_predicted == y_test))\n",
    "print(\"=============================================\")\n",
    "print(\"Categorical Train Accuracy:\", acc_by_category(ytrain_predict, y_train, le))\n",
    "print(\"Categorical Test Accuracy:\", acc_by_category(ytest_predicted, y_test, le))"
   ]
  },
  {
   "cell_type": "code",
   "execution_count": 334,
   "metadata": {},
   "outputs": [],
   "source": [
    "def plot_acc_catgory(ytest_predicted,y_test,le):\n",
    "\n",
    "    dft = pd.DataFrame(list(\"\".join(le.inverse_transform(ytest_predicted))),columns=[\"pred\"])\n",
    "    y = pd.DataFrame(list(\"\".join(le.inverse_transform(y_test))))\n",
    "    dft[\"count\"] =  1\n",
    "    dft[\"same\"] = (dft[\"pred\"] == y[0])\n",
    "    dft[\"same\"] = dft[\"same\"].astype(int)\n",
    "    group = dft.groupby(\"pred\").sum()\n",
    "    group.sort_values(\"count\", ascending=False, inplace=True)\n",
    "    \n",
    "    return group"
   ]
  },
  {
   "cell_type": "code",
   "execution_count": 335,
   "metadata": {},
   "outputs": [
    {
     "name": "stdout",
     "output_type": "stream",
     "text": [
      "      count  same\n",
      "pred             \n",
      "N       706   706\n",
      "I       701   568\n",
      "F       534   380\n",
      "P       501   377\n",
      "J       205   132\n",
      "T       172   154\n",
      "E         5     4\n"
     ]
    }
   ],
   "source": [
    "print(plot_acc_catgory(ytest_predicted,y_test,le))\n"
   ]
  },
  {
   "cell_type": "code",
   "execution_count": 341,
   "metadata": {},
   "outputs": [
    {
     "data": {
      "image/png": "[encoded data removed]",
      "text/plain": [
       "<Figure size 1440x432 with 2 Axes>"
      ]
     },
     "metadata": {
      "needs_background": "light"
     },
     "output_type": "display_data"
    }
   ],
   "source": [
    "f, ax = plt.subplots(1,2,figsize=(20,6))\n",
    "groupsn[\"count\"].plot(kind=\"bar\", title=\"Distribution of Predicted User Personality Types\", ax=ax[0]);\n",
    "groupsn[\"same\"].plot(kind=\"bar\", title=\"Distribution of Correctly Classified User Personality Types\", ax=ax[1]);"
   ]
  },
  {
   "cell_type": "code",
   "execution_count": null,
   "metadata": {},
   "outputs": [],
   "source": []
  }
 ],
 "metadata": {
  "kernelspec": {
   "display_name": "Python 3",
   "language": "python",
   "name": "python3"
  },
  "language_info": {
   "codemirror_mode": {
    "name": "ipython",
    "version": 3
   },
   "file_extension": ".py",
   "mimetype": "text/x-python",
   "name": "python",
   "nbconvert_exporter": "python",
   "pygments_lexer": "ipython3",
   "version": "3.7.6"
  }
 },
 "nbformat": 4,
 "nbformat_minor": 4
}
