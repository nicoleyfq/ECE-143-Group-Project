{
 "cells": [
  {
   "cell_type": "markdown",
   "metadata": {},
   "source": [
    "# Question 1 [Word Processing]\n",
    "\n",
    "Download this corpus of 10,000 common English words and write the following functions given a list of words:\n",
    "\n",
    "Compute the average length of the words (get_average_word_length(words))\n",
    "What is the longest word (get_longest_word(words))?\n",
    "What is the longest word that starts with a single letter (get_longest_words_startswith(words,start))\n",
    "What is the most common starting letter (get_most_common_start(words))?\n",
    "What is the most common ending letter (get_most_common_end(words))?"
   ]
  },
  {
   "cell_type": "markdown",
   "metadata": {},
   "source": [
    "**Validation Tests** <br>\n",
    "Check for corner cases and constraints in the inputs enlist all cases used for testing"
   ]
  },
  {
   "cell_type": "code",
   "execution_count": null,
   "metadata": {},
   "outputs": [],
   "source": [
    "assert (instring, str), \"instring must be an integer\"\n",
    "assert (unique, bool), \"unique must be a Boolean\"\n",
    "# Add additional tests here"
   ]
  },
  {
   "cell_type": "markdown",
   "metadata": {},
   "source": [
    "**Functional Tests** <br>\n",
    "Check function output matches expected result enlist all cases used for testing"
   ]
  },
  {
   "cell_type": "code",
   "execution_count": null,
   "metadata": {},
   "outputs": [],
   "source": [
    "data = \"\"\"Mary had a little lamb its fleece was white as snow and everywhere that Mary went the lamb was sure to go\"\"\"\n",
    "assert 3.8421 ==compute_average_word_length(data), \"checking for unique=True\""
   ]
  },
  {
   "cell_type": "markdown",
   "metadata": {},
   "source": [
    "# Question 2 [Interval]\n",
    "\n",
    "Using Python object oriented programming, write a class called Interval that represents a one-dimensional open interval on the real line. This main purpose of this class is to simplify overlapping continuous intervals. The code below should get you started but there are a lot of missing pieces that you will have to figure out.\n",
    "\n",
    "The API should take a pair of integers as input and respond to the + operator such that\n",
    "\n",
    " \n",
    " > a = Interval(1,3) \n",
    " > b = Interval(2,4) \n",
    " > c = Interval(5,10) \n",
    " > a + b  \n",
    " Interval(1,4) \n",
    " > b+c \n",
    " [ Interval(2,4), Interval(5,10)]\n",
    "\n",
    "Note that in the case of non-overlapping intervals, the output should be a list of constituent Intervals. Keep in mind that these are open intervals. Specifically,\n",
    "\n",
    "\n",
    "> Interval(2,3)+Interval(1,2) \n",
    " [Interval(2,3), Interval(1,2)]\n",
    "\n",
    "Note that these do not produce a single interval because each interval is open (not closed). The interval endpoints can be negative also (e.g., Interval(-10,-3) is valid). The output does not have to be sorted.\n",
    "\n",
    "It's up to you to write the dunder functions for your object. If you do this right, you will have a very general solution to this problem."
   ]
  },
  {
   "cell_type": "markdown",
   "metadata": {},
   "source": [
    "**Validation Tests** <br>\n",
    "Check for corner cases and constraints in the inputs enlist all cases used for testing"
   ]
  },
  {
   "cell_type": "code",
   "execution_count": null,
   "metadata": {},
   "outputs": [],
   "source": [
    "assert a<b, \"lowerbound is smaller than upperbound\"\n",
    "assert isinstance(a,int), \"lowerbound is int\"\n",
    "assert isinstance(b,int),\"upperbound is int\""
   ]
  },
  {
   "cell_type": "markdown",
   "metadata": {},
   "source": [
    "**Functional Tests** <br>\n",
    "Check function output matches expected result enlist all cases used for testing"
   ]
  },
  {
   "cell_type": "code",
   "execution_count": null,
   "metadata": {},
   "outputs": [],
   "source": [
    "assert Interval(-5,-2) == Interval (-5,-2), \"check equal\"\n",
    "assert Interval (1,3) < Interval(2,4),\"check smaller than\"\n",
    "assert Interval(1,3)+Interval(2,4) ==  Interval(1,4), \"check overlapping interval addition\"\n",
    "assert Interval(-10,-3)+Interval(-5,-2) == Interval(-10,-2), \"check overlapping interval addition\"\n",
    "assert Interval(1,3)+Interval(4,5) == [Interval(1,3), Interval(4,5)], \"check non-overlapping interval\"\n",
    "assert Interval(-1,0)+Interval(5,10) == [Interval(-1,0), Interval(5,10)], \"check non-overlapping interval\""
   ]
  },
  {
   "cell_type": "markdown",
   "metadata": {},
   "source": [
    "# Question 3 [Random Image Slash]\n",
    "\n",
    "A 6x6 black-and-white image is represented as a Numpy array x as in the following,\n",
    "\n",
    "import numpy as np\n",
    "x = np.eye(6)\n",
    "\n",
    "Note that this is not a grayscale or color image for which there would be three dimensions (e.g., 6 x 6 x 3). This can easily be visualized using Matplotlib's imshow function, as in the following:\n",
    "from matplotlib.pylab import subplots, cm >>> fig, ax = subplots()  >>> ax.imshow(x,cmap=cm.gray_r)  \n",
    "To debug an image processing algorithm, you have to generate a large number of exemplar training images that consist of such Numpy arrays. Each image should represent a forward or backward leaning (shown above) slash symbol. Each symbol must consist of at least two non-zero pixels and be contiguous (i.e., no gaps). For example, the longest possible slash symbol that is representable in a 6x6 image is the 6 nonzero pixel diagonal image show above (or its opposite leaning forwardslash variant).\n",
    "\n",
    "The assignment is to write a function that can produce a uniformly random forward or backslashed image (i.e., Numpy array) of at least two non-zero pixels. Here is some code that generates the following figure,\n",
    "\n",
    "fig,axs=subplots(3,3,sharex=True,sharey=True)\n",
    " for ax in axs.flatten():\n",
    "     ax.imshow(gen_rand_slash(),cmap=cm.gray_r)\n",
    "     \n",
    "Here is the function signature: gen_rand_slash(m=6,n=6,direction='back'). The direction keyword argument can be either back or forward. The m is the number of rows in the image.\n",
    "\n",
    "Note: Don't import matplotlib in your solutions. Only allowed external library is numpy.\n"
   ]
  },
  {
   "cell_type": "markdown",
   "metadata": {},
   "source": [
    "**Validation Tests** <br>\n",
    "Check for corner cases and constraints in the inputs enlist all cases used for testing"
   ]
  },
  {
   "cell_type": "code",
   "execution_count": null,
   "metadata": {},
   "outputs": [],
   "source": [
    "assert isinstance(m,int) and m >=2 #check if row is and int and larger than 2\n",
    "assert isinstance(n,int) and n >=2 #check if column is an int and larger than 2\n",
    "assert isinstance(direction,str) #check if direction is string\n",
    "assert direction == 'back' or direction =='forward' \n",
    "#direction can only hold these 2 values: 'back' and 'forward'"
   ]
  },
  {
   "cell_type": "markdown",
   "metadata": {},
   "source": [
    "**Functional Tests** <br>\n",
    "Check function output matches expected result enlist all cases used for testing"
   ]
  },
  {
   "cell_type": "code",
   "execution_count": null,
   "metadata": {},
   "outputs": [],
   "source": [
    "comparison = gen_rand_slash(m=2,n=2,direction='back') == np.eye(2)\n",
    "assert comparison.all()==True"
   ]
  },
  {
   "cell_type": "code",
   "execution_count": null,
   "metadata": {},
   "outputs": [],
   "source": [
    "comparison1 = gen_rand_slash(m=3,n=2,direction='forward') == np.array([[0,1],[1,0],[0,0]])\n",
    "comparison2 = gen_rand_slash(m=3,n=2,direction='forward') == np.array([[0,0],[0,1],[1,0]])\n",
    "assert comparison1.all()==True or comparison2.all()==True"
   ]
  }
 ],
 "metadata": {
  "kernelspec": {
   "display_name": "Python 3",
   "language": "python",
   "name": "python3"
  },
  "language_info": {
   "codemirror_mode": {
    "name": "ipython",
    "version": 3
   },
   "file_extension": ".py",
   "mimetype": "text/x-python",
   "name": "python",
   "nbconvert_exporter": "python",
   "pygments_lexer": "ipython3",
   "version": "3.8.7"
  }
 },
 "nbformat": 4,
 "nbformat_minor": 4
}
