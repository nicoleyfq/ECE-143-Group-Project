{
 "cells": [
  {
   "cell_type": "markdown",
   "metadata": {},
   "source": [
    "# Question 1 [Word Processing]\n",
    "\n",
    "Download this corpus of 10,000 common English words and write the following functions given a list of words:\n",
    "\n",
    "Compute the average length of the words (get_average_word_length(words))\n",
    "What is the longest word (get_longest_word(words))?\n",
    "What is the longest word that starts with a single letter (get_longest_words_startswith(words,start))\n",
    "What is the most common starting letter (get_most_common_start(words))?\n",
    "What is the most common ending letter (get_most_common_end(words))?"
   ]
  },
  {
   "cell_type": "markdown",
   "metadata": {},
   "source": [
    "**Validation Tests** <br>\n",
    "Check for corner cases and constraints in the inputs enlist all cases used for testing"
   ]
  },
  {
   "cell_type": "code",
   "execution_count": null,
   "metadata": {},
   "outputs": [],
   "source": [
    "assert (instring, str), \"instring must be an integer\"\n",
    "assert (unique, bool), \"unique must be a Boolean\"\n",
    "# Add additional tests here"
   ]
  },
  {
   "cell_type": "markdown",
   "metadata": {},
   "source": [
    "**Functional Tests** <br>\n",
    "Check function output matches expected result enlist all cases used for testing"
   ]
  },
  {
   "cell_type": "code",
   "execution_count": null,
   "metadata": {},
   "outputs": [],
   "source": [
    "data = \"\"\"Mary had a little lamb its fleece was white as snow and everywhere that Mary went the lamb was sure to go\"\"\"\n",
    "assert 3.8421 ==compute_average_word_length(data), \"checking for unique=True\""
   ]
  },
  {
   "cell_type": "markdown",
   "metadata": {},
   "source": [
    "# Question 2 [Word Processing]\n",
    "\n",
    "Using Python object oriented programming, write a class called Interval that represents a one-dimensional open interval on the real line. This main purpose of this class is to simplify overlapping continuous intervals. The code below should get you started but there are a lot of missing pieces that you will have to figure out.\n",
    "\n",
    "The API should take a pair of integers as input and respond to the + operator such that\n",
    "\n",
    " \n",
    " >>> a = Interval(1,3) \n",
    " >>> b = Interval(2,4) \n",
    " >>> c = Interval(5,10) \n",
    " >>> a + b  \n",
    " Interval(1,4) \n",
    " >>> b+c \n",
    " [ Interval(2,4), Interval(5,10)]\n",
    "\n",
    "Note that in the case of non-overlapping intervals, the output should be a list of constituent Intervals. Keep in mind that these are open intervals. Specifically,\n",
    "\n",
    "\n",
    ">>> Interval(2,3)+Interval(1,2) \n",
    " [Interval(2,3), Interval(1,2)]\n",
    "\n",
    "Note that these do not produce a single interval because each interval is open (not closed). The interval endpoints can be negative also (e.g., Interval(-10,-3) is valid). The output does not have to be sorted.\n",
    "\n",
    "It's up to you to write the dunder functions for your object. If you do this right, you will have a very general solution to this problem."
   ]
  },
  {
   "cell_type": "markdown",
   "metadata": {},
   "source": [
    "**Validation Tests** <br>\n",
    "Check for corner cases and constraints in the inputs enlist all cases used for testing"
   ]
  }
 ],
 "metadata": {
  "kernelspec": {
   "display_name": "Python 3",
   "language": "python",
   "name": "python3"
  },
  "language_info": {
   "codemirror_mode": {
    "name": "ipython",
    "version": 3
   },
   "file_extension": ".py",
   "mimetype": "text/x-python",
   "name": "python",
   "nbconvert_exporter": "python",
   "pygments_lexer": "ipython3",
   "version": "3.8.3"
  }
 },
 "nbformat": 4,
 "nbformat_minor": 4
}
